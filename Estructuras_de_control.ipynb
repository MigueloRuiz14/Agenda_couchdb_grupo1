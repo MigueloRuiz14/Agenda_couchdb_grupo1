{
  "cells": [
    {
      "cell_type": "markdown",
      "metadata": {
        "id": "view-in-github",
        "colab_type": "text"
      },
      "source": [
        "<a href=\"https://colab.research.google.com/github/MigueloRuiz14/Agenda_couchdb_grupo1/blob/master/Estructuras_de_control.ipynb\" target=\"_parent\"><img src=\"https://colab.research.google.com/assets/colab-badge.svg\" alt=\"Open In Colab\"/></a>"
      ]
    },
    {
      "cell_type": "markdown",
      "source": [
        "## **EJERCICIO 1**\n",
        "\n",
        "\n",
        "\n"
      ],
      "metadata": {
        "id": "UfjokEKZmVdE"
      }
    },
    {
      "cell_type": "code",
      "source": [
        "def Sueldo(sueldo):\n",
        "  return sueldo - (sueldo * 0.03 + sueldo * 0.0625)\n",
        "\n",
        "def Sueldo2(sueldo):\n",
        "  return (((sueldo - (sueldo * 0.03 + sueldo * 0.0625)) - 472.00) * 0.10) + 17.67\n",
        "\n",
        "def Sueldo3(sueldo):\n",
        "  return (((sueldo - (sueldo * 0.03 + sueldo * 0.0625)) - 895.24) * 0.20) + 60.00\n",
        "\n",
        "def Sueldo4(sueldo):\n",
        "  return (((sueldo - (sueldo * 0.03 + sueldo * 0.0625)) - 2038.10) * 0.30) + 288.57"
      ],
      "metadata": {
        "id": "7D0A2KKQoYJU"
      },
      "execution_count": null,
      "outputs": []
    },
    {
      "cell_type": "code",
      "source": [
        "sueldo = float (input(\"Ingrese un sueldo: \"))"
      ],
      "metadata": {
        "id": "GG8cUNfge3D5",
        "colab": {
          "base_uri": "https://localhost:8080/"
        },
        "outputId": "0b69b13c-eb79-45ed-fd32-ef5a92595b66"
      },
      "execution_count": null,
      "outputs": [
        {
          "name": "stdout",
          "output_type": "stream",
          "text": [
            "Ingrese un sueldo: 800\n"
          ]
        }
      ]
    },
    {
      "cell_type": "code",
      "source": [
        "suel = Sueldo(sueldo)\n",
        "\n",
        "suel2 = Sueldo2(sueldo)\n",
        "\n",
        "suel3 = Sueldo3(sueldo)\n",
        "\n",
        "suel4 = Sueldo4(sueldo)"
      ],
      "metadata": {
        "id": "CmTEMGAxsUHI"
      },
      "execution_count": null,
      "outputs": []
    },
    {
      "cell_type": "code",
      "source": [
        "if sueldo <= 472.00:\n",
        "  print(\"Su sueldo es: \", suel)\n",
        "\n",
        "if sueldo >= 472.01 and sueldo <= 895.24: \n",
        "  print(\"En su sueldo de: \", sueldo, \", el descuento de impuesto de renta es: \", suel2)\n",
        "\n",
        "if sueldo >= 895.25 and sueldo <= 2038.10: \n",
        "  print(\"En su sueldo de: \", sueldo, \", el descuento de impuesto de renta es: \", suel3)\n",
        "\n",
        "if sueldo >= 2038.10: \n",
        "  print(\"En su sueldo de: \", sueldo, \", el descuento de impuesto de renta es: \", suel4)\n"
      ],
      "metadata": {
        "id": "duzS-sT8h_9c",
        "colab": {
          "base_uri": "https://localhost:8080/"
        },
        "outputId": "3b5c9ddb-0246-46a5-cc66-5a6791c54bd2"
      },
      "execution_count": null,
      "outputs": [
        {
          "output_type": "stream",
          "name": "stdout",
          "text": [
            "En su sueldo de:  800.0 , el descuento de impuesto de renta es:  43.07000000000001\n"
          ]
        }
      ]
    },
    {
      "cell_type": "markdown",
      "source": [
        "## **EJERCICIO 2**"
      ],
      "metadata": {
        "id": "yKi9EXgfm7sE"
      }
    },
    {
      "cell_type": "code",
      "source": [
        "def cuota(metros):\n",
        "  return 6\n",
        "\n",
        "def cuota2(metros):\n",
        "  return ((metros - 18) * 0.45) + 6\n",
        "\n",
        "def cuota3(metros):\n",
        "  return ((metros - 28) * 0.65) + ((28 - 18) * 0.45) + 6 "
      ],
      "metadata": {
        "id": "v-cpy848nj-i"
      },
      "execution_count": null,
      "outputs": []
    },
    {
      "cell_type": "code",
      "source": [
        "metros = int(input(\"Ingrese número de metros: \"))"
      ],
      "metadata": {
        "colab": {
          "base_uri": "https://localhost:8080/"
        },
        "id": "jNZ_ZQDsuIba",
        "outputId": "c56af200-e41b-456a-c851-19f73437ebbd"
      },
      "execution_count": null,
      "outputs": [
        {
          "name": "stdout",
          "output_type": "stream",
          "text": [
            "Ingrese número de metros: 40\n"
          ]
        }
      ]
    },
    {
      "cell_type": "code",
      "source": [
        "cuo1 = cuota(metros)\n",
        "\n",
        "cuo2 = cuota2(metros)\n",
        "\n",
        "cuo3 = cuota3(metros)"
      ],
      "metadata": {
        "id": "BbyFVbQopoju"
      },
      "execution_count": null,
      "outputs": []
    },
    {
      "cell_type": "code",
      "source": [
        "if metros >=1 and metros <= 18:\n",
        "  print(\"En\", metros,\"metro/os\" \" Usted tiene que pagar $\", cuo1)\n",
        "\n",
        "if metros >=19 and metros <= 28:\n",
        "  print(\"En\", metros,\"metros\" \" Usted tiene que pagar $\", cuo2)\n",
        "\n",
        "if metros >=29:\n",
        "  print(\"En\", metros,\"metros\" \" Usted tiene que pagar $\", cuo3)"
      ],
      "metadata": {
        "colab": {
          "base_uri": "https://localhost:8080/"
        },
        "id": "BVQuOAsknhs9",
        "outputId": "b251b90f-4baf-44c0-b448-304f3131772f"
      },
      "execution_count": null,
      "outputs": [
        {
          "output_type": "stream",
          "name": "stdout",
          "text": [
            "En 40 metros Usted tiene que pagar $ 18.3\n"
          ]
        }
      ]
    },
    {
      "cell_type": "markdown",
      "source": [
        "## **EJERCICIO 3**"
      ],
      "metadata": {
        "id": "3ilNXZ97nOvQ"
      }
    },
    {
      "cell_type": "code",
      "source": [],
      "metadata": {
        "id": "wEFv5TfYnjWB"
      },
      "execution_count": null,
      "outputs": []
    },
    {
      "cell_type": "code",
      "source": [],
      "metadata": {
        "id": "BI7FI1Y0njBy"
      },
      "execution_count": null,
      "outputs": []
    },
    {
      "cell_type": "markdown",
      "source": [
        "## **EJERCICIO 4**"
      ],
      "metadata": {
        "id": "HLW8p4P_nZS2"
      }
    },
    {
      "cell_type": "code",
      "source": [],
      "metadata": {
        "id": "tNTg5_hhnlOg"
      },
      "execution_count": null,
      "outputs": []
    },
    {
      "cell_type": "code",
      "source": [],
      "metadata": {
        "id": "ZpWyaogonlIz"
      },
      "execution_count": null,
      "outputs": []
    },
    {
      "cell_type": "markdown",
      "source": [
        "## **EJERCICIO 5**"
      ],
      "metadata": {
        "id": "k0L0MmWfndra"
      }
    },
    {
      "cell_type": "code",
      "source": [],
      "metadata": {
        "id": "rUdDy7Z6nlvj"
      },
      "execution_count": null,
      "outputs": []
    },
    {
      "cell_type": "code",
      "source": [],
      "metadata": {
        "id": "32UROHm-nW22"
      },
      "execution_count": null,
      "outputs": []
    }
  ],
  "metadata": {
    "colab": {
      "collapsed_sections": [
        "3ilNXZ97nOvQ",
        "HLW8p4P_nZS2",
        "k0L0MmWfndra"
      ],
      "name": "Estructuras de control",
      "toc_visible": true,
      "provenance": [],
      "include_colab_link": true
    },
    "kernelspec": {
      "display_name": "Python 3",
      "name": "python3"
    }
  },
  "nbformat": 4,
  "nbformat_minor": 0
}